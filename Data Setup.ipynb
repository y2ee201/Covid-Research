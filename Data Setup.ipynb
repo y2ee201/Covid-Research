{
 "cells": [
  {
   "cell_type": "code",
   "execution_count": 2,
   "metadata": {},
   "outputs": [],
   "source": [
    "import pandas as pd\n",
    "import seaborn as sns\n",
    "import os\n",
    "import cv2\n",
    "from tqdm import tqdm\n",
    "import pydicom"
   ]
  },
  {
   "cell_type": "code",
   "execution_count": 3,
   "metadata": {},
   "outputs": [],
   "source": [
    "def get_clahe(img):\n",
    "    lab = cv2.cvtColor(img, cv2.COLOR_BGR2LAB)\n",
    "    lab_planes = cv2.split(lab)\n",
    "    clahe = cv2.createCLAHE(clipLimit=2.0, tileGridSize=(16,16))\n",
    "    lab_planes[0] = clahe.apply(lab_planes[0])\n",
    "    lab = cv2.merge(lab_planes)\n",
    "    bgr = cv2.cvtColor(lab, cv2.COLOR_LAB2BGR)\n",
    "    return bgr"
   ]
  },
  {
   "cell_type": "code",
   "execution_count": 4,
   "metadata": {
    "collapsed": true
   },
   "outputs": [
    {
     "name": "stdout",
     "output_type": "stream",
     "text": [
      "<class 'pandas.core.frame.DataFrame'>\n",
      "Int64Index: 76 entries, 0 to 126\n",
      "Data columns (total 16 columns):\n",
      "Patientid         76 non-null int64\n",
      "offset            56 non-null float64\n",
      "sex               67 non-null object\n",
      "age               63 non-null float64\n",
      "finding           76 non-null object\n",
      "survival          29 non-null object\n",
      "view              76 non-null object\n",
      "date              76 non-null object\n",
      "location          60 non-null object\n",
      "filename          76 non-null object\n",
      "doi               44 non-null object\n",
      " url              76 non-null object\n",
      "license           14 non-null object\n",
      "clinical notes    71 non-null object\n",
      "other notes       32 non-null object\n",
      "Unnamed: 15       0 non-null float64\n",
      "dtypes: float64(3), int64(1), object(12)\n",
      "memory usage: 10.1+ KB\n"
     ]
    }
   ],
   "source": [
    "covid_front_df = pd.read_pickle('./covid_df.pkl')\n",
    "covid_front_df.info()"
   ]
  },
  {
   "cell_type": "code",
   "execution_count": 5,
   "metadata": {
    "collapsed": true
   },
   "outputs": [
    {
     "name": "stdout",
     "output_type": "stream",
     "text": [
      "<class 'pandas.core.frame.DataFrame'>\n",
      "Int64Index: 20672 entries, 0 to 30224\n",
      "Data columns (total 8 columns):\n",
      "patientId    20672 non-null object\n",
      "x            0 non-null float64\n",
      "y            0 non-null float64\n",
      "width        0 non-null float64\n",
      "height       0 non-null float64\n",
      "Target       20672 non-null int64\n",
      "filename     20672 non-null object\n",
      "is_covid     20672 non-null int64\n",
      "dtypes: float64(4), int64(2), object(2)\n",
      "memory usage: 1.4+ MB\n"
     ]
    }
   ],
   "source": [
    "rsna_normal = pd.read_pickle('./rsna_df.pkl')\n",
    "rsna_normal.info()"
   ]
  },
  {
   "cell_type": "code",
   "execution_count": 9,
   "metadata": {},
   "outputs": [
    {
     "name": "stderr",
     "output_type": "stream",
     "text": [
      "100%|██████████████████████████████████████████████████████████████████████████████████████████████████████████████| 76/76 [00:13<00:00,  5.79it/s]\n"
     ]
    }
   ],
   "source": [
    "for filename in tqdm(covid_front_df.filename.unique()):\n",
    "    img = cv2.imread('./covid-chestxray-dataset-master/images/'+filename)\n",
    "    img = get_clahe(img)"
   ]
  },
  {
   "cell_type": "code",
   "execution_count": 10,
   "metadata": {},
   "outputs": [
    {
     "name": "stderr",
     "output_type": "stream",
     "text": [
      "100%|████████████████████████████████████████████████████████████████████████████████████████████████████████| 20672/20672 [35:03<00:00,  9.51it/s]\n"
     ]
    }
   ],
   "source": [
    "for patientid in tqdm(rsna_normal.patientId.unique()):\n",
    "    ds = pydicom.dcmread('./stage_2_train_images/'+patientid+'.dcm')\n",
    "    pixel_array_numpy = ds.pixel_array\n",
    "    cv2.imwrite('./images/'+patientid+'.jpeg', pixel_array_numpy)\n",
    "    img = get_clahe(cv2.imread('./images/'+patientid+'.jpeg'))\n",
    "    cv2.imwrite('./images/'+patientid+'.jpeg', img)"
   ]
  },
  {
   "cell_type": "code",
   "execution_count": null,
   "metadata": {},
   "outputs": [],
   "source": []
  }
 ],
 "metadata": {
  "kernelspec": {
   "display_name": "Python 3",
   "language": "python",
   "name": "python3"
  },
  "language_info": {
   "codemirror_mode": {
    "name": "ipython",
    "version": 3
   },
   "file_extension": ".py",
   "mimetype": "text/x-python",
   "name": "python",
   "nbconvert_exporter": "python",
   "pygments_lexer": "ipython3",
   "version": "3.6.5"
  }
 },
 "nbformat": 4,
 "nbformat_minor": 2
}
